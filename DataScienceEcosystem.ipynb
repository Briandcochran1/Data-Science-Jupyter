{
 "cells": [
  {
   "cell_type": "markdown",
   "id": "d7aa87ce-2378-4171-9f75-608d0d3eef71",
   "metadata": {},
   "source": [
    "# Data Science Tools and Ecosystem\n"
   ]
  },
  {
   "cell_type": "markdown",
   "id": "95941996-1180-4431-80c4-931652c74c2a",
   "metadata": {
    "tags": []
   },
   "source": [
    "In this notebook, Data Science Tools and Ecosystem are summarized."
   ]
  },
  {
   "cell_type": "markdown",
   "id": "93381783-0f74-41e0-a7d2-2b4a434a3ade",
   "metadata": {
    "tags": []
   },
   "source": [
    "**Objectives:**"
   ]
  },
  {
   "cell_type": "markdown",
   "id": "0c851d65-284c-4a4e-9e01-92358ad1d7ab",
   "metadata": {
    "tags": []
   },
   "source": [
    "After completing this lab, you will be able to:"
   ]
  },
  {
   "cell_type": "markdown",
   "id": "2e65d509-f6fe-4214-bb37-a8d1ad2b4418",
   "metadata": {
    "tags": []
   },
   "source": [
    "* List popular languages used by Data Scientists\n",
    "* Learn some commonly used libraries used by Data Scientists\n",
    "* Learn some commonly used Data Science Tools"
   ]
  },
  {
   "cell_type": "markdown",
   "id": "d75c4788-2912-4394-8e7e-4cf0b4c21344",
   "metadata": {},
   "source": [
    "Some of the popular languages that Data Scientists use are: "
   ]
  },
  {
   "cell_type": "markdown",
   "id": "5627294f-060a-47d1-b06e-3af34eaca38c",
   "metadata": {},
   "source": [
    "1. Python\n",
    "2. R\n",
    "3. SQL\n",
    "4. JavaScript"
   ]
  },
  {
   "cell_type": "markdown",
   "id": "6904d78f-2f4a-4570-b15f-94098e3e2613",
   "metadata": {},
   "source": [
    "Some of the commonly used libraries used by Data Scientists include: \n",
    "\n",
    "1. TensorFlow\n",
    "2. Scikit-Learn\n",
    "3. NumPy\n",
    "4. Keras\n"
   ]
  },
  {
   "cell_type": "markdown",
   "id": "67c3614b-1157-4ee7-856e-593fbbac3c0b",
   "metadata": {},
   "source": [
    "  |**Data Science Tools**|\n",
    "  | ----------------------- |\n",
    "  | Jupyter Notebooks |\n",
    "  | RStudio |\n",
    "  | Hadoop |\n",
    "  | Apache Spark |\n",
    "  \n",
    "  "
   ]
  },
  {
   "cell_type": "markdown",
   "id": "ad169bd5-3ca9-42d5-ac34-e5ef7b6771e9",
   "metadata": {},
   "source": [
    "### Below are a few examples of evaluating arithmetic expressions in Python"
   ]
  },
  {
   "cell_type": "markdown",
   "id": "012de285-add1-4cd7-94a1-a70290363afd",
   "metadata": {
    "tags": []
   },
   "source": [
    "This is a simple arithmetic expression to multiply then add integers:\n"
   ]
  },
  {
   "cell_type": "code",
   "execution_count": 1,
   "id": "b1dcd03b-7efb-445e-bf52-e76d5fdb91dc",
   "metadata": {
    "tags": []
   },
   "outputs": [
    {
     "data": {
      "text/plain": [
       "17"
      ]
     },
     "execution_count": 1,
     "metadata": {},
     "output_type": "execute_result"
    }
   ],
   "source": [
    "(3*4)+5"
   ]
  },
  {
   "cell_type": "markdown",
   "id": "0346b1b7-de4f-4618-9c05-8f09d0c7d543",
   "metadata": {
    "tags": []
   },
   "source": [
    "This will convert 200 minutes to hours by dividing by 60\n"
   ]
  },
  {
   "cell_type": "code",
   "execution_count": 2,
   "id": "d57d4e6d-9599-4e21-9c87-e42e005e1efd",
   "metadata": {
    "tags": []
   },
   "outputs": [
    {
     "data": {
      "text/plain": [
       "3.3333333333333335"
      ]
     },
     "execution_count": 2,
     "metadata": {},
     "output_type": "execute_result"
    }
   ],
   "source": [
    "minutes = 200\n",
    "hours = 60\n",
    "minutes/hours\n"
   ]
  },
  {
   "cell_type": "markdown",
   "id": "dcc7b951-21f6-486a-b40f-76db7ab8cef4",
   "metadata": {},
   "source": [
    "## Author"
   ]
  },
  {
   "cell_type": "markdown",
   "id": "0e986aba-07c1-4021-8a7c-9c91cf693f25",
   "metadata": {},
   "source": [
    "Brian Cochran"
   ]
  },
  {
   "cell_type": "code",
   "execution_count": null,
   "id": "7bbf9cd6-dcea-4d75-8cd2-7364005af51c",
   "metadata": {},
   "outputs": [],
   "source": []
  }
 ],
 "metadata": {
  "kernelspec": {
   "display_name": "Python",
   "language": "python",
   "name": "conda-env-python-py"
  },
  "language_info": {
   "codemirror_mode": {
    "name": "ipython",
    "version": 3
   },
   "file_extension": ".py",
   "mimetype": "text/x-python",
   "name": "python",
   "nbconvert_exporter": "python",
   "pygments_lexer": "ipython3",
   "version": "3.7.12"
  }
 },
 "nbformat": 4,
 "nbformat_minor": 5
}
